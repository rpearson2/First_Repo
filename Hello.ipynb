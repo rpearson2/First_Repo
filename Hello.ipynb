{
 "cells": [
  {
   "cell_type": "markdown",
   "id": "d292627a",
   "metadata": {},
   "source": [
    "# Test Notebook\n",
    "## Robert Pearson\n",
    "### Freshman\n",
    "* Programming with Python\n"
   ]
  },
  {
   "cell_type": "code",
   "execution_count": 1,
   "id": "3f75f460",
   "metadata": {},
   "outputs": [
    {
     "name": "stdout",
     "output_type": "stream",
     "text": [
      "Hello World\n"
     ]
    }
   ],
   "source": [
    "print(\"Hello World\")"
   ]
  },
  {
   "cell_type": "code",
   "execution_count": 2,
   "id": "09233093",
   "metadata": {},
   "outputs": [
    {
     "name": "stdout",
     "output_type": "stream",
     "text": [
      "1.34\n"
     ]
    }
   ],
   "source": [
    "a=6.7\n",
    "b=5\n",
    "result= a/b\n",
    "print(result)"
   ]
  },
  {
   "cell_type": "code",
   "execution_count": null,
   "id": "7388cc0b",
   "metadata": {},
   "outputs": [],
   "source": []
  }
 ],
 "metadata": {
  "kernelspec": {
   "display_name": "Python 3 (ipykernel)",
   "language": "python",
   "name": "python3"
  },
  "language_info": {
   "codemirror_mode": {
    "name": "ipython",
    "version": 3
   },
   "file_extension": ".py",
   "mimetype": "text/x-python",
   "name": "python",
   "nbconvert_exporter": "python",
   "pygments_lexer": "ipython3",
   "version": "3.11.4"
  }
 },
 "nbformat": 4,
 "nbformat_minor": 5
}
